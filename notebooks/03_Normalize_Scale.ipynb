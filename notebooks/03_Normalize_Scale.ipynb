{
 "cells": [
  {
   "cell_type": "markdown",
   "id": "2ab4e1e4",
   "metadata": {},
   "source": [
    "---\n",
    "## 03_Normalize_Scale\n",
    "---"
   ]
  },
  {
   "cell_type": "markdown",
   "id": "c94aee7a",
   "metadata": {},
   "source": []
  },
  {
   "cell_type": "code",
   "execution_count": 3,
   "id": "98058659",
   "metadata": {},
   "outputs": [],
   "source": [
    "# Imports and Settings\n",
    "import sys\n",
    "import os\n",
    "import pandas as pd\n",
    "import numpy as np\n",
    "\n",
    "# Visualization (for checks and sanity plots)\n",
    "import matplotlib.pyplot as plt\n",
    "import seaborn as sns\n",
    "\n",
    "# Scikit-learn for normalization/scaling\n",
    "from sklearn.preprocessing import MinMaxScaler, StandardScaler\n",
    "\n",
    "# Add project root so we can import from src/\n",
    "sys.path.append(os.path.abspath(\"..\"))\n",
    "\n",
    "# Settings\n",
    "pd.set_option('display.max_columns', None)\n",
    "sns.set_style(\"whitegrid\")"
   ]
  },
  {
   "cell_type": "code",
   "execution_count": 4,
   "id": "a9fb673a",
   "metadata": {},
   "outputs": [],
   "source": [
    "# Import helper\n",
    "from src.normalize import normalize_indicator"
   ]
  },
  {
   "cell_type": "code",
   "execution_count": 6,
   "id": "533a0b40",
   "metadata": {},
   "outputs": [],
   "source": [
    "# Directories\n",
    "clean_dir = \"../data/clean/\"\n",
    "norm_dir = \"../data/normalized/\"\n",
    "os.makedirs(norm_dir, exist_ok=True)"
   ]
  },
  {
   "cell_type": "code",
   "execution_count": 7,
   "id": "e7a6e732",
   "metadata": {},
   "outputs": [
    {
     "name": "stdout",
     "output_type": "stream",
     "text": [
      "Available cleaned datasets: ['electricity_clean.csv', 'gdp_ppp_clean.csv', 'gov_effect_clean.csv', 'internet_clean.csv', 'literacy_clean.csv', 'mobile_clean.csv', 'researchers_clean.csv', 'rnd_gdp_clean.csv', 'tertiary_clean.csv']\n"
     ]
    }
   ],
   "source": [
    "# List cleaned files\n",
    "clean_files = [f for f in os.listdir(clean_dir) if f.endswith(\"_clean.csv\")]\n",
    "print(\"Available cleaned datasets:\", clean_files)"
   ]
  },
  {
   "cell_type": "markdown",
   "id": "5048e0ed",
   "metadata": {},
   "source": [
    "---\n",
    "## Normalization of datasets\n",
    "---"
   ]
  },
  {
   "cell_type": "code",
   "execution_count": 8,
   "id": "4fe41cf1",
   "metadata": {},
   "outputs": [
    {
     "name": "stdout",
     "output_type": "stream",
     "text": [
      "🔎 Preview of electricity:\n",
      "                  Country Name Country Code    Year    Indicator  Value  \\\n",
      "0                        Aruba          ABW  1990.0  electricity  100.0   \n",
      "1  Africa Eastern and Southern          AFE  1990.0  electricity    NaN   \n",
      "2                  Afghanistan          AFG  1990.0  electricity    NaN   \n",
      "3   Africa Western and Central          AFW  1990.0  electricity    NaN   \n",
      "4                       Angola          AGO  1990.0  electricity    NaN   \n",
      "\n",
      "   Normalized  \n",
      "0       100.0  \n",
      "1         NaN  \n",
      "2         NaN  \n",
      "3         NaN  \n",
      "4         NaN  \n",
      "Electricity normalized and saved to ../data/normalized/electricity_normalized.csv\n"
     ]
    }
   ],
   "source": [
    "# Normalization test on one dataset (electricity)\n",
    "df = pd.read_csv(os.path.join(clean_dir, \"electricity_clean.csv\"))\n",
    "\n",
    "normalized_df = normalize_indicator(df, \"electricity\", preview_rows=5)\n",
    "\n",
    "# Save to normalized folder\n",
    "out_path = os.path.join(norm_dir, \"electricity_normalized.csv\")\n",
    "normalized_df.to_csv(out_path, index=False)\n",
    "\n",
    "print(f\"Electricity normalized and saved to {out_path}\")"
   ]
  },
  {
   "cell_type": "code",
   "execution_count": 9,
   "id": "207f9326",
   "metadata": {},
   "outputs": [
    {
     "name": "stdout",
     "output_type": "stream",
     "text": [
      "electricity normalized and saved to ../data/normalized/electricity_normalized.csv\n",
      "gdp_ppp normalized and saved to ../data/normalized/gdp_ppp_normalized.csv\n",
      "Failed on gov_effect: unsupported operand type(s) for -: 'str' and 'float'\n",
      "internet normalized and saved to ../data/normalized/internet_normalized.csv\n",
      "literacy normalized and saved to ../data/normalized/literacy_normalized.csv\n",
      "mobile normalized and saved to ../data/normalized/mobile_normalized.csv\n",
      "researchers normalized and saved to ../data/normalized/researchers_normalized.csv\n",
      "rnd_gdp normalized and saved to ../data/normalized/rnd_gdp_normalized.csv\n",
      "tertiary normalized and saved to ../data/normalized/tertiary_normalized.csv\n"
     ]
    }
   ],
   "source": [
    "# Normalize all cleaned datasets in one loop\n",
    "for fname in clean_files:\n",
    "    indicator = fname.replace(\"_clean.csv\", \"\")\n",
    "    try:\n",
    "        df = pd.read_csv(os.path.join(clean_dir, fname))\n",
    "        normalized_df = normalize_indicator(df, indicator, preview_rows=0)\n",
    "        out_path = os.path.join(norm_dir, f\"{indicator}_normalized.csv\")\n",
    "        normalized_df.to_csv(out_path, index=False)\n",
    "        print(f\"{indicator} normalized and saved to {out_path}\")\n",
    "    except Exception as e:\n",
    "        print(f\"Failed on {indicator}: {e}\")"
   ]
  },
  {
   "cell_type": "markdown",
   "id": "69a904f1",
   "metadata": {},
   "source": [
    "---\n",
    "## Summary\n",
    "---\n",
    "03_Normalize_Scale — Summary\n",
    "\n",
    "Objective: Scale all cleaned indicator datasets into a comparable 0–100 range while preserving missing values (NaNs).\n",
    "\n",
    "Process:\n",
    "\n",
    "Imported helper function normalize_indicator from src/normalize.py.\n",
    "\n",
    "Defined directories for clean/ inputs and normalized/ outputs.\n",
    "\n",
    "Verified available cleaned datasets (9 total).\n",
    "\n",
    "Tested normalization on electricity_clean.csv.\n",
    "\n",
    "Normalized all datasets in a loop, saving results into ../data/normalized/.\n",
    "\n",
    "Patched gov_effect issue by coercing Value column to numeric in normalize.py.\n",
    "\n",
    "Outputs:\n",
    "\n",
    "9 normalized datasets saved into ../data/normalized/:\n",
    "electricity, gdp_ppp, gov_effect, internet, literacy,\n",
    "mobile, researchers, rnd_gdp, tertiary.\n",
    "\n",
    "Each dataset includes both the raw Value column and a Normalized column.\n",
    "\n",
    "NaNs preserved to ensure missing data can be handled explicitly later.\n",
    "\n",
    "Next Step:\n",
    "\n",
    "Proceed to 04_Handle_Missing to decide on missing data strategy (leave as NaN, impute selectively, or flag)."
   ]
  },
  {
   "cell_type": "code",
   "execution_count": null,
   "id": "2a624e0a",
   "metadata": {},
   "outputs": [],
   "source": []
  },
  {
   "cell_type": "code",
   "execution_count": null,
   "id": "044cdcbf",
   "metadata": {},
   "outputs": [],
   "source": []
  },
  {
   "cell_type": "code",
   "execution_count": null,
   "id": "fe9cd9d5",
   "metadata": {},
   "outputs": [],
   "source": []
  }
 ],
 "metadata": {
  "kernelspec": {
   "display_name": "Python 3",
   "language": "python",
   "name": "python3"
  },
  "language_info": {
   "codemirror_mode": {
    "name": "ipython",
    "version": 3
   },
   "file_extension": ".py",
   "mimetype": "text/x-python",
   "name": "python",
   "nbconvert_exporter": "python",
   "pygments_lexer": "ipython3",
   "version": "3.13.7"
  }
 },
 "nbformat": 4,
 "nbformat_minor": 5
}
