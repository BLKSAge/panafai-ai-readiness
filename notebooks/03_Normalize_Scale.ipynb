{
 "cells": [
  {
   "cell_type": "markdown",
   "id": "2ab4e1e4",
   "metadata": {},
   "source": [
    "---\n",
    "## 03_Normalize_Scale\n",
    "---"
   ]
  },
  {
   "cell_type": "markdown",
   "id": "842f7364",
   "metadata": {},
   "source": [
    "# Notebook 03: Normalize & Scale\n",
    "\n",
    "This notebook normalizes and scales all cleaned datasets to prepare for composite scoring.  \n",
    "The goal is to standardize indicators on a 0–100 scale for comparability.  \n",
    "\n",
    "## Imports and Settings\n",
    "Load required libraries for normalization, visualization, and utility functions.  \n",
    "Configure display and plotting styles for consistency. "
   ]
  },
  {
   "cell_type": "code",
   "execution_count": null,
   "id": "98058659",
   "metadata": {},
   "outputs": [],
   "source": [
    "import sys\n",
    "import os\n",
    "import pandas as pd\n",
    "import numpy as np\n",
    "\n",
    "import matplotlib.pyplot as plt\n",
    "import seaborn as sns\n",
    "\n",
    "from sklearn.preprocessing import MinMaxScaler, StandardScaler\n",
    "\n",
    "sys.path.append(os.path.abspath(\"..\"))\n",
    "\n",
    "pd.set_option('display.max_columns', None)\n",
    "sns.set_style(\"whitegrid\")"
   ]
  },
  {
   "cell_type": "code",
   "execution_count": 4,
   "id": "a9fb673a",
   "metadata": {},
   "outputs": [],
   "source": [
    "# Import helper\n",
    "from src.normalize import normalize_indicator"
   ]
  },
  {
   "cell_type": "code",
   "execution_count": 6,
   "id": "533a0b40",
   "metadata": {},
   "outputs": [],
   "source": [
    "# Directories\n",
    "clean_dir = \"../data/clean/\"\n",
    "norm_dir = \"../data/normalized/\"\n",
    "os.makedirs(norm_dir, exist_ok=True)"
   ]
  },
  {
   "cell_type": "code",
   "execution_count": 7,
   "id": "e7a6e732",
   "metadata": {},
   "outputs": [
    {
     "name": "stdout",
     "output_type": "stream",
     "text": [
      "Available cleaned datasets: ['electricity_clean.csv', 'gdp_ppp_clean.csv', 'gov_effect_clean.csv', 'internet_clean.csv', 'literacy_clean.csv', 'mobile_clean.csv', 'researchers_clean.csv', 'rnd_gdp_clean.csv', 'tertiary_clean.csv']\n"
     ]
    }
   ],
   "source": [
    "# List cleaned files\n",
    "clean_files = [f for f in os.listdir(clean_dir) if f.endswith(\"_clean.csv\")]\n",
    "print(\"Available cleaned datasets:\", clean_files)"
   ]
  },
  {
   "cell_type": "markdown",
   "id": "5048e0ed",
   "metadata": {},
   "source": [
    "---\n",
    "## Normalization Test: Electricity\n",
    "---\n",
    "Run a test normalization on the electricity dataset.  \n",
    "Steps:  \n",
    "1. Load the cleaned electricity data.  \n",
    "2. Apply the `normalize_indicator` helper function.  \n",
    "3. Preview a few rows to confirm scaling worked.  \n",
    "4. Save the normalized version into `/data/normalized/`.  "
   ]
  },
  {
   "cell_type": "code",
   "execution_count": null,
   "id": "4fe41cf1",
   "metadata": {},
   "outputs": [
    {
     "name": "stdout",
     "output_type": "stream",
     "text": [
      "🔎 Preview of electricity:\n",
      "                  Country Name Country Code    Year    Indicator  Value  \\\n",
      "0                        Aruba          ABW  1990.0  electricity  100.0   \n",
      "1  Africa Eastern and Southern          AFE  1990.0  electricity    NaN   \n",
      "2                  Afghanistan          AFG  1990.0  electricity    NaN   \n",
      "3   Africa Western and Central          AFW  1990.0  electricity    NaN   \n",
      "4                       Angola          AGO  1990.0  electricity    NaN   \n",
      "\n",
      "   Normalized  \n",
      "0       100.0  \n",
      "1         NaN  \n",
      "2         NaN  \n",
      "3         NaN  \n",
      "4         NaN  \n",
      "Electricity normalized and saved to ../data/normalized/electricity_normalized.csv\n"
     ]
    }
   ],
   "source": [
    "df = pd.read_csv(os.path.join(clean_dir, \"electricity_clean.csv\"))\n",
    "\n",
    "normalized_df = normalize_indicator(df, \"electricity\", preview_rows=5)\n",
    "\n",
    "out_path = os.path.join(norm_dir, \"electricity_normalized.csv\")\n",
    "normalized_df.to_csv(out_path, index=False)\n",
    "\n",
    "print(f\"Electricity normalized and saved to {out_path}\")"
   ]
  },
  {
   "cell_type": "markdown",
   "id": "004f1bec",
   "metadata": {},
   "source": [
    "## Normalize All Cleaned Datasets\n",
    "Run normalization across all cleaned datasets in one loop.  \n",
    "Each dataset is scaled using `normalize_indicator()` and saved into `/data/normalized/`.  \n",
    "Errors are caught and reported if any dataset fails.  "
   ]
  },
  {
   "cell_type": "code",
   "execution_count": 9,
   "id": "207f9326",
   "metadata": {},
   "outputs": [
    {
     "name": "stdout",
     "output_type": "stream",
     "text": [
      "electricity normalized and saved to ../data/normalized/electricity_normalized.csv\n",
      "gdp_ppp normalized and saved to ../data/normalized/gdp_ppp_normalized.csv\n",
      "Failed on gov_effect: unsupported operand type(s) for -: 'str' and 'float'\n",
      "internet normalized and saved to ../data/normalized/internet_normalized.csv\n",
      "literacy normalized and saved to ../data/normalized/literacy_normalized.csv\n",
      "mobile normalized and saved to ../data/normalized/mobile_normalized.csv\n",
      "researchers normalized and saved to ../data/normalized/researchers_normalized.csv\n",
      "rnd_gdp normalized and saved to ../data/normalized/rnd_gdp_normalized.csv\n",
      "tertiary normalized and saved to ../data/normalized/tertiary_normalized.csv\n"
     ]
    }
   ],
   "source": [
    "# Normalize all cleaned datasets in one loop\n",
    "for fname in clean_files:\n",
    "    indicator = fname.replace(\"_clean.csv\", \"\")\n",
    "    try:\n",
    "        df = pd.read_csv(os.path.join(clean_dir, fname))\n",
    "        normalized_df = normalize_indicator(df, indicator, preview_rows=0)\n",
    "        out_path = os.path.join(norm_dir, f\"{indicator}_normalized.csv\")\n",
    "        normalized_df.to_csv(out_path, index=False)\n",
    "        print(f\"{indicator} normalized and saved to {out_path}\")\n",
    "    except Exception as e:\n",
    "        print(f\"Failed on {indicator}: {e}\")"
   ]
  },
  {
   "cell_type": "markdown",
   "id": "69a904f1",
   "metadata": {},
   "source": [
    "# Wrap-Up: Normalization & Scaling\n",
    "\n",
    "## Notebook 03 Wrap-Up\n",
    "\n",
    "**Objective:**  \n",
    "Scale all cleaned indicator datasets into a comparable 0–100 range while preserving missing values (NaNs).  \n",
    "\n",
    "**Process:**  \n",
    "- Imported helper function `normalize_indicator` from `src/normalize.py`.  \n",
    "- Defined directories for `/data/clean/` inputs and `/data/normalized/` outputs.  \n",
    "- Verified available cleaned datasets (9 total).  \n",
    "- Tested normalization on `electricity_clean.csv`.  \n",
    "- Normalized all datasets in a loop, saving results into `/data/normalized/`.  \n",
    "- Patched `gov_effect` issue by coercing `Value` column to numeric in `normalize.py`.  \n",
    "\n",
    "**Outputs:**  \n",
    "- 9 normalized datasets saved into `/data/normalized/`:  \n",
    "  `electricity`, `gdp_ppp`, `gov_effect`, `internet`, `literacy`,  \n",
    "  `mobile`, `researchers`, `rnd_gdp`, `tertiary`.  \n",
    "- Each dataset includes both the raw `Value` column and a `Normalized` column.  \n",
    "- NaNs preserved to ensure missing data can be handled explicitly later.  \n",
    "\n",
    "---\n",
    "\n",
    "## Key Takeaways\n",
    "- All datasets are now standardized and comparable on a 0–100 scale.  \n",
    "- Missing values remain intact for explicit handling in the next step.  \n",
    "- Ready to proceed to **Notebook 04: Composite Scoring**.  "
   ]
  },
  {
   "cell_type": "markdown",
   "id": "98458d2b",
   "metadata": {},
   "source": []
  }
 ],
 "metadata": {
  "kernelspec": {
   "display_name": "Python 3",
   "language": "python",
   "name": "python3"
  },
  "language_info": {
   "codemirror_mode": {
    "name": "ipython",
    "version": 3
   },
   "file_extension": ".py",
   "mimetype": "text/x-python",
   "name": "python",
   "nbconvert_exporter": "python",
   "pygments_lexer": "ipython3",
   "version": "3.13.7"
  }
 },
 "nbformat": 4,
 "nbformat_minor": 5
}
