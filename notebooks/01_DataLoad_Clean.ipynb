{
 "cells": [
  {
   "cell_type": "markdown",
   "id": "57978322",
   "metadata": {},
   "source": [
    "---\n",
    "## 01_Dataload_Clean\n",
    "---"
   ]
  },
  {
   "cell_type": "markdown",
   "id": "e474a836",
   "metadata": {},
   "source": [
    "# Notebook 01: Data Load & Clean\n",
    "\n",
    "This notebook loads raw World Bank and UN datasets, reshapes them into long format, and performs initial cleaning steps.  \n",
    "The cleaned datasets are exported into `/data/clean/` for use in later notebooks.\n",
    "\n",
    "### Steps\n",
    "1. Load raw CSVs  \n",
    "2. Reshape wide → long  \n",
    "3. Standardize columns  \n",
    "4. Filter years ≥ 1990  \n",
    "5. Export cleaned versions to `/data/clean/`  "
   ]
  },
  {
   "cell_type": "markdown",
   "id": "a94a920b",
   "metadata": {},
   "source": [
    "## Imports\n",
    "Load required Python libraries for data cleaning and reshaping."
   ]
  },
  {
   "cell_type": "code",
   "execution_count": null,
   "id": "e8cae5e8",
   "metadata": {},
   "outputs": [],
   "source": [
    "import pandas as pd\n",
    "import numpy as np\n",
    "import os"
   ]
  },
  {
   "cell_type": "markdown",
   "id": "3c71051e",
   "metadata": {},
   "source": [
    "## Define Data Directories and Files\n",
    "Set up input (`/data/raw/`) and output (`/data/clean/`) directories, and specify filenames for each dataset."
   ]
  },
  {
   "cell_type": "code",
   "execution_count": null,
   "id": "4ce5144a",
   "metadata": {},
   "outputs": [],
   "source": [
    "raw_dir = \"../data/raw/\"\n",
    "clean_dir = \"../data/clean/\"\n",
    "\n",
    "os.makedirs(clean_dir, exist_ok=True)\n",
    "\n",
    "files = {\n",
    "    \"electricity\": \"API_EG.ELC.ACCS.ZS_DS2_en_csv_v2_38353.csv\",\n",
    "    \"internet\": \"API_IT.NET.USER.ZS_DS2_en_csv_v2_112825.csv\",\n",
    "    \"mobile\": \"API_IT.CEL.SETS.P2_DS2_en_csv_v2_37045.csv\",\n",
    "    \"literacy\": \"API_SE.ADT.LITR.ZS_DS2_en_csv_v2_37553.csv\",\n",
    "    \"tertiary\": \"API_SE.TER.ENRR_DS2_en_csv_v2_399842.csv\",\n",
    "    \"researchers\": \"API_SP.POP.SCIE.RD.P6_DS2_en_csv_v2_463385.csv\",\n",
    "    \"rnd_gdp\": \"API_GB.XPD.RSDV.GD.ZS_DS2_en_csv_v2_464376.csv\",\n",
    "    \"gdp_ppp\": \"API_NY.GDP.PCAP.PP.KD_DS2_en_csv_v2_406489.csv\",\n",
    "    \"gov_effect\": \"5a88699c-e86d-490a-8c9e-c070313913df_Data.csv\"\n",
    "}"
   ]
  },
  {
   "cell_type": "markdown",
   "id": "a10f6226",
   "metadata": {},
   "source": [
    "## Load Raw Data into DataFrames\n",
    "Read each dataset into a dictionary of DataFrames.  \n",
    "- Most World Bank CSVs require `skiprows=4`.  \n",
    "- The government effectiveness dataset is loaded directly.  \n",
    "Each dataset’s shape is printed for confirmation."
   ]
  },
  {
   "cell_type": "code",
   "execution_count": null,
   "id": "edfa8030",
   "metadata": {},
   "outputs": [
    {
     "name": "stdout",
     "output_type": "stream",
     "text": [
      "✔ Loaded electricity: (266, 70)\n",
      "✔ Loaded internet: (266, 70)\n",
      "✔ Loaded mobile: (266, 70)\n",
      "✔ Loaded literacy: (266, 70)\n",
      "✔ Loaded tertiary: (266, 70)\n",
      "✔ Loaded researchers: (266, 70)\n",
      "✔ Loaded rnd_gdp: (266, 70)\n",
      "✔ Loaded gdp_ppp: (266, 70)\n",
      "✔ Loaded gov_effect: (7709, 29)\n"
     ]
    }
   ],
   "source": [
    "raw_dfs = {}\n",
    "for key, fname in files.items():\n",
    "    path = os.path.join(raw_dir, fname)\n",
    "    try:\n",
    "        if key == \"gov_effect\":\n",
    "            df = pd.read_csv(path)  # no skiprows for gov_effect\n",
    "        else:\n",
    "            df = pd.read_csv(path, skiprows=4)  # World Bank usually needs skiprows=4\n",
    "        raw_dfs[key] = df\n",
    "        print(f\"Loaded {key}: {df.shape}\")\n",
    "    except Exception as e:\n",
    "        print(f\"Failed to load {key}: {e}\")"
   ]
  },
  {
   "cell_type": "markdown",
   "id": "f8c62998",
   "metadata": {},
   "source": [
    "## Define Cleaning Function\n",
    "Helper function to standardize World Bank-style indicator files:\n",
    "- Reshape from wide to long format  \n",
    "- Rename and standardize columns  \n",
    "- Filter to years ≥ 1990  \n",
    "- Retain NaN values for later handling"
   ]
  },
  {
   "cell_type": "code",
   "execution_count": null,
   "id": "fd2d9829",
   "metadata": {},
   "outputs": [],
   "source": [
    "def clean_wb_df(df, indicator_name):\n",
    "    \"\"\"\n",
    "    Cleans World Bank-style indicator files:\n",
    "    - Melt wide → long\n",
    "    - Rename columns\n",
    "    - Filter year >= 1990\n",
    "    - Retain NaNs\n",
    "    \"\"\"\n",
    "    df_long = df.melt(\n",
    "        id_vars=[\"Country Name\", \"Country Code\"],\n",
    "        var_name=\"Year\", value_name=\"Value\"\n",
    "    )\n",
    "    df_long[\"Year\"] = pd.to_numeric(df_long[\"Year\"], errors=\"coerce\")\n",
    "    df_long = df_long[df_long[\"Year\"] >= 1990]\n",
    "    df_long[\"Indicator\"] = indicator_name\n",
    "    return df_long[[\"Country Name\", \"Country Code\", \"Year\", \"Indicator\", \"Value\"]]"
   ]
  },
  {
   "cell_type": "markdown",
   "id": "b19b0d69",
   "metadata": {},
   "source": [
    "## Apply Cleaning Function\n",
    "Apply the helper function to all World Bank–style datasets (electricity, internet, mobile, literacy, tertiary, researchers, R&D, GDP PPP).  \n",
    "The government effectiveness dataset is excluded here and will be handled separately."
   ]
  },
  {
   "cell_type": "code",
   "execution_count": null,
   "id": "6f4493e4",
   "metadata": {},
   "outputs": [
    {
     "name": "stdout",
     "output_type": "stream",
     "text": [
      "✔ Cleaned electricity: (9310, 5)\n",
      "✔ Cleaned internet: (9310, 5)\n",
      "✔ Cleaned mobile: (9310, 5)\n",
      "✔ Cleaned literacy: (9310, 5)\n",
      "✔ Cleaned tertiary: (9310, 5)\n",
      "✔ Cleaned researchers: (9310, 5)\n",
      "✔ Cleaned rnd_gdp: (9310, 5)\n",
      "✔ Cleaned gdp_ppp: (9310, 5)\n"
     ]
    }
   ],
   "source": [
    "clean_dfs = {}\n",
    "\n",
    "for key, df in raw_dfs.items():\n",
    "    if key == \"gov_effect\":\n",
    "        # Handle separately later\n",
    "        continue\n",
    "    cleaned = clean_wb_df(df, key)\n",
    "    clean_dfs[key] = cleaned\n",
    "    print(f\"Cleaned {key}: {cleaned.shape}\")"
   ]
  },
  {
   "cell_type": "markdown",
   "id": "24a306f7",
   "metadata": {},
   "source": [
    "## Clean Government Effectiveness (Special Case)\n",
    "The government effectiveness dataset is structured differently than World Bank-style files.  \n",
    "Steps:\n",
    "- Filter to the *\"Government Effectiveness: Estimate\"* series  \n",
    "- Reshape from wide to long format  \n",
    "- Extract numeric years (e.g., `1996 [YR1996]` → `1996`)  \n",
    "- Filter for years ≥ 1990  \n",
    "- Tag with the `gov_effect` indicator name  "
   ]
  },
  {
   "cell_type": "code",
   "execution_count": null,
   "id": "2cf9ca3f",
   "metadata": {},
   "outputs": [
    {
     "name": "stdout",
     "output_type": "stream",
     "text": [
      "✔ Cleaned gov_effect (filtered): (5350, 5)\n"
     ]
    }
   ],
   "source": [
    "gov_df = raw_dfs[\"gov_effect\"].copy()\n",
    "\n",
    "gov_df = gov_df[gov_df[\"Series Name\"] == \"Government Effectiveness: Estimate\"]\n",
    "\n",
    "gov_long = gov_df.melt(\n",
    "    id_vars=[\"Country Name\", \"Country Code\"],\n",
    "    var_name=\"Year\", value_name=\"Value\"\n",
    ")\n",
    "\n",
    "gov_long[\"Year\"] = gov_long[\"Year\"].str.extract(r\"(\\d{4})\").astype(float)\n",
    "\n",
    "gov_long = gov_long[gov_long[\"Year\"] >= 1990]\n",
    "\n",
    "gov_long[\"Indicator\"] = \"gov_effect\"\n",
    "\n",
    "gov_long = gov_long[[\"Country Name\", \"Country Code\", \"Year\", \"Indicator\", \"Value\"]]\n",
    "\n",
    "clean_dfs[\"gov_effect\"] = gov_long\n",
    "print(f\"Cleaned gov_effect (filtered): {gov_long.shape}\")"
   ]
  },
  {
   "cell_type": "markdown",
   "id": "119fc2dc",
   "metadata": {},
   "source": [
    "## Save Cleaned Data\n",
    "Export each cleaned dataset into the `/data/clean/` directory.  \n",
    "Each file is saved with the format `{indicator}_clean.csv`."
   ]
  },
  {
   "cell_type": "code",
   "execution_count": null,
   "id": "d05780d0",
   "metadata": {},
   "outputs": [
    {
     "name": "stdout",
     "output_type": "stream",
     "text": [
      "Saved: ../data/clean/electricity_clean.csv\n",
      "Saved: ../data/clean/internet_clean.csv\n",
      "Saved: ../data/clean/mobile_clean.csv\n",
      "Saved: ../data/clean/literacy_clean.csv\n",
      "Saved: ../data/clean/tertiary_clean.csv\n",
      "Saved: ../data/clean/researchers_clean.csv\n",
      "Saved: ../data/clean/rnd_gdp_clean.csv\n",
      "Saved: ../data/clean/gdp_ppp_clean.csv\n",
      "Saved: ../data/clean/gov_effect_clean.csv\n"
     ]
    }
   ],
   "source": [
    "for key, df in clean_dfs.items():\n",
    "    out_path = os.path.join(clean_dir, f\"{key}_clean.csv\")\n",
    "    df.to_csv(out_path, index=False)\n",
    "    print(f\"Saved: {out_path}\")"
   ]
  },
  {
   "cell_type": "markdown",
   "id": "cde4e72b",
   "metadata": {},
   "source": [
    "---\n",
    "## Wrap-Up\n",
    "---\n",
    "- Successfully loaded raw World Bank and UN datasets.  \n",
    "- Applied cleaning function to World Bank-style indicators and a custom cleaning routine for Government Effectiveness\n",
    "- Exported cleaned datasets into `/data/clean/` with standardized formats.  \n",
    "- These outputs are now ready for normalization and scaling in \n",
    "**Notebook 03: Normalize & Scale**.  "
   ]
  },
  {
   "cell_type": "code",
   "execution_count": null,
   "id": "0bc661f1",
   "metadata": {},
   "outputs": [],
   "source": []
  }
 ],
 "metadata": {
  "kernelspec": {
   "display_name": "Python 3",
   "language": "python",
   "name": "python3"
  },
  "language_info": {
   "codemirror_mode": {
    "name": "ipython",
    "version": 3
   },
   "file_extension": ".py",
   "mimetype": "text/x-python",
   "name": "python",
   "nbconvert_exporter": "python",
   "pygments_lexer": "ipython3",
   "version": "3.13.7"
  }
 },
 "nbformat": 4,
 "nbformat_minor": 5
}
